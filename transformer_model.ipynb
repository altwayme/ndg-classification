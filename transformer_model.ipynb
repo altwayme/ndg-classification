{
 "cells": [
  {
   "cell_type": "code",
   "execution_count": null,
   "id": "16a3787c-50b8-492a-92b0-026646543d34",
   "metadata": {
    "execution": {
     "iopub.execute_input": "2025-02-04T13:31:13.531421Z",
     "iopub.status.busy": "2025-02-04T13:31:13.528828Z",
     "iopub.status.idle": "2025-02-04T13:31:47.549614Z",
     "shell.execute_reply": "2025-02-04T13:31:47.548404Z",
     "shell.execute_reply.started": "2025-02-04T13:31:13.531357Z"
    },
    "tags": []
   },
   "outputs": [
    {
     "name": "stderr",
     "output_type": "stream",
     "text": [
      "C:\\Users\\altwayme\\AppData\\Local\\Packages\\PythonSoftwareFoundation.Python.3.13_qbz5n2kfra8p0\\LocalCache\\local-packages\\Python313\\site-packages\\tqdm\\auto.py:21: TqdmWarning: IProgress not found. Please update jupyter and ipywidgets. See https://ipywidgets.readthedocs.io/en/stable/user_install.html\n",
      "  from .autonotebook import tqdm as notebook_tqdm\n",
      "Some weights of LongformerForSequenceClassification were not initialized from the model checkpoint at kazzand/ru-longformer-tiny-16384 and are newly initialized: ['classifier.dense.bias', 'classifier.dense.weight', 'classifier.out_proj.bias', 'classifier.out_proj.weight']\n",
      "You should probably TRAIN this model on a down-stream task to be able to use it for predictions and inference.\n"
     ]
    }
   ],
   "source": [
    "from transformers import LongformerForSequenceClassification, LongformerTokenizerFast\n",
    "#from transformers import AdamW\n",
    "from torch.optim import AdamW\n",
    "import json\n",
    "import pandas as pd\n",
    "import nltk\n",
    "import re\n",
    "import torch\n",
    "import numpy as np\n",
    "from torch import nn\n",
    "from nltk.corpus import stopwords\n",
    "from pymorphy3 import MorphAnalyzer\n",
    "from sklearn.model_selection import train_test_split\n",
    "from iterstrat.ml_stratifiers import MultilabelStratifiedShuffleSplit\n",
    "from torch.utils.data import DataLoader, Dataset\n",
    "from tqdm import tqdm\n",
    "\n",
    "\n",
    "model = LongformerForSequenceClassification.from_pretrained('kazzand/ru-longformer-tiny-16384', num_labels=8)\n",
    "tokenizer = LongformerTokenizerFast.from_pretrained('kazzand/ru-longformer-tiny-16384')\n"
   ]
  },
  {
   "cell_type": "code",
   "execution_count": null,
   "id": "4258eb53-c406-4100-bee6-dfc54080d0de",
   "metadata": {
    "execution": {
     "iopub.execute_input": "2025-02-04T13:32:02.312922Z",
     "iopub.status.busy": "2025-02-04T13:32:02.311856Z",
     "iopub.status.idle": "2025-02-04T13:32:10.903710Z",
     "shell.execute_reply": "2025-02-04T13:32:10.902143Z",
     "shell.execute_reply.started": "2025-02-04T13:32:02.312887Z"
    },
    "tags": []
   },
   "outputs": [
    {
     "data": {
      "text/html": [
       "<div>\n",
       "<style scoped>\n",
       "    .dataframe tbody tr th:only-of-type {\n",
       "        vertical-align: middle;\n",
       "    }\n",
       "\n",
       "    .dataframe tbody tr th {\n",
       "        vertical-align: top;\n",
       "    }\n",
       "\n",
       "    .dataframe thead th {\n",
       "        text-align: right;\n",
       "    }\n",
       "</style>\n",
       "<table border=\"1\" class=\"dataframe\">\n",
       "  <thead>\n",
       "    <tr style=\"text-align: right;\">\n",
       "      <th></th>\n",
       "      <th>title</th>\n",
       "      <th>authors</th>\n",
       "      <th>publication_date</th>\n",
       "      <th>citation_journals</th>\n",
       "      <th>keywords</th>\n",
       "      <th>anno</th>\n",
       "      <th>url</th>\n",
       "      <th>text</th>\n",
       "      <th>fetch_date</th>\n",
       "      <th>ncr_category</th>\n",
       "      <th>classification</th>\n",
       "    </tr>\n",
       "  </thead>\n",
       "  <tbody>\n",
       "    <tr>\n",
       "      <th>0</th>\n",
       "      <td>Демографические итоги 2014 года. Краткий докла...</td>\n",
       "      <td>Не найдено</td>\n",
       "      <td>2015</td>\n",
       "      <td>Демографическое обозрение</td>\n",
       "      <td>РОССИЯ, RUSSIA, ДЕМОГРАФИЧЕСКИЕ ИТОГИ, ЧИСЛЕНН...</td>\n",
       "      <td>The Institute of Demography presents a brief v...</td>\n",
       "      <td>https://cyberleninka.ru/article/n/demografiche...</td>\n",
       "      <td>﻿ДЕМОГРАФИЧЕСКИЕ ИТОГИ 2014 ГОДА. КРАТКИЙ ДОКЛ...</td>\n",
       "      <td>2025-04-01</td>\n",
       "      <td>3_Комфортная_безопасная_среда</td>\n",
       "      <td>[1]</td>\n",
       "    </tr>\n",
       "    <tr>\n",
       "      <th>1</th>\n",
       "      <td>ГРЕБНЕВАЯ МОДЕЛЬ ДЛЯ ПРОГНОЗА ДЕМОГРАФИЧЕСКИХ ...</td>\n",
       "      <td>Медведева Елена Ильинична, Крошилин Сергей Вик...</td>\n",
       "      <td>2022</td>\n",
       "      <td>Народонаселение</td>\n",
       "      <td>СОЦИАЛЬНО-ЭКОНОМИЧЕСКИЕ ПРОБЛЕМЫ, ВОЗРАСТНАЯ С...</td>\n",
       "      <td>The purpose of this study was to use the autho...</td>\n",
       "      <td>https://cyberleninka.ru/article/n/grebnevaya-m...</td>\n",
       "      <td>﻿Э01: 10.19181/рори1айоп.2022.25.2.8\\n\\nГРЕБНЕ...</td>\n",
       "      <td>2025-04-01</td>\n",
       "      <td>Не определено</td>\n",
       "      <td>[1]</td>\n",
       "    </tr>\n",
       "    <tr>\n",
       "      <th>2</th>\n",
       "      <td>ЖЕНЩИНЫ И МУЖЧИНЫ: РАЗЛИЧИЯ В ПОКАЗАТЕЛЯХ РОЖД...</td>\n",
       "      <td>Архангельский Владимир Николаевич, Калачикова ...</td>\n",
       "      <td>2021</td>\n",
       "      <td>Экономические и социальные перемены: факты, те...</td>\n",
       "      <td>СТАБИЛЬНОЕ НАСЕЛЕНИЕ, ВОЗРАСТНАЯ МОДЕЛЬ РОЖДАЕ...</td>\n",
       "      <td>The search for the reasons that determine birt...</td>\n",
       "      <td>https://cyberleninka.ru/article/n/zhenschiny-i...</td>\n",
       "      <td>﻿DOI: 10.15838/esc.2021.5.77.10 УДК 314.8:314....</td>\n",
       "      <td>2025-04-01</td>\n",
       "      <td>Не определено</td>\n",
       "      <td>[1]</td>\n",
       "    </tr>\n",
       "    <tr>\n",
       "      <th>3</th>\n",
       "      <td>Составляющие демографического потенциала сельс...</td>\n",
       "      <td>Новиков В.Г., Чалый В.С.</td>\n",
       "      <td>2012</td>\n",
       "      <td>Вестник университета</td>\n",
       "      <td>СЕЛЬСКИЕ ТЕРРИТОРИИ, ДЕМОГРАФИЯ, РОЖДАЕМОСТЬ, ...</td>\n",
       "      <td>Анализ демографической ситуации, проведенной в...</td>\n",
       "      <td>https://cyberleninka.ru/article/n/sostavlyayus...</td>\n",
       "      <td>СОСТАВЛЯЮЩИЕ ДЕМОГРАФИЧЕСКОГО ПОТЕНЦИАЛА СЕЛЬС...</td>\n",
       "      <td>2025-04-01</td>\n",
       "      <td>Не определено</td>\n",
       "      <td>[1]</td>\n",
       "    </tr>\n",
       "    <tr>\n",
       "      <th>4</th>\n",
       "      <td>О прогнозе долгосрочного социально-экономическ...</td>\n",
       "      <td>Не найдено</td>\n",
       "      <td>2014</td>\n",
       "      <td>Финансовая аналитика: проблемы и решения</td>\n",
       "      <td></td>\n",
       "      <td>По данным Минэкономразвития России публикуются...</td>\n",
       "      <td>https://cyberleninka.ru/article/n/o-prognoze-d...</td>\n",
       "      <td>о прогнозе долгосрочного социально-экономическ...</td>\n",
       "      <td>2025-04-01</td>\n",
       "      <td>1_Сохранение_насел-развитие_здоровье_благополу...</td>\n",
       "      <td>[5]</td>\n",
       "    </tr>\n",
       "  </tbody>\n",
       "</table>\n",
       "</div>"
      ],
      "text/plain": [
       "                                               title  \\\n",
       "0  Демографические итоги 2014 года. Краткий докла...   \n",
       "1  ГРЕБНЕВАЯ МОДЕЛЬ ДЛЯ ПРОГНОЗА ДЕМОГРАФИЧЕСКИХ ...   \n",
       "2  ЖЕНЩИНЫ И МУЖЧИНЫ: РАЗЛИЧИЯ В ПОКАЗАТЕЛЯХ РОЖД...   \n",
       "3  Составляющие демографического потенциала сельс...   \n",
       "4  О прогнозе долгосрочного социально-экономическ...   \n",
       "\n",
       "                                             authors publication_date  \\\n",
       "0                                         Не найдено             2015   \n",
       "1  Медведева Елена Ильинична, Крошилин Сергей Вик...             2022   \n",
       "2  Архангельский Владимир Николаевич, Калачикова ...             2021   \n",
       "3                           Новиков В.Г., Чалый В.С.             2012   \n",
       "4                                         Не найдено             2014   \n",
       "\n",
       "                                   citation_journals  \\\n",
       "0                          Демографическое обозрение   \n",
       "1                                    Народонаселение   \n",
       "2  Экономические и социальные перемены: факты, те...   \n",
       "3                               Вестник университета   \n",
       "4           Финансовая аналитика: проблемы и решения   \n",
       "\n",
       "                                            keywords  \\\n",
       "0  РОССИЯ, RUSSIA, ДЕМОГРАФИЧЕСКИЕ ИТОГИ, ЧИСЛЕНН...   \n",
       "1  СОЦИАЛЬНО-ЭКОНОМИЧЕСКИЕ ПРОБЛЕМЫ, ВОЗРАСТНАЯ С...   \n",
       "2  СТАБИЛЬНОЕ НАСЕЛЕНИЕ, ВОЗРАСТНАЯ МОДЕЛЬ РОЖДАЕ...   \n",
       "3  СЕЛЬСКИЕ ТЕРРИТОРИИ, ДЕМОГРАФИЯ, РОЖДАЕМОСТЬ, ...   \n",
       "4                                                      \n",
       "\n",
       "                                                anno  \\\n",
       "0  The Institute of Demography presents a brief v...   \n",
       "1  The purpose of this study was to use the autho...   \n",
       "2  The search for the reasons that determine birt...   \n",
       "3  Анализ демографической ситуации, проведенной в...   \n",
       "4  По данным Минэкономразвития России публикуются...   \n",
       "\n",
       "                                                 url  \\\n",
       "0  https://cyberleninka.ru/article/n/demografiche...   \n",
       "1  https://cyberleninka.ru/article/n/grebnevaya-m...   \n",
       "2  https://cyberleninka.ru/article/n/zhenschiny-i...   \n",
       "3  https://cyberleninka.ru/article/n/sostavlyayus...   \n",
       "4  https://cyberleninka.ru/article/n/o-prognoze-d...   \n",
       "\n",
       "                                                text  fetch_date  \\\n",
       "0  ﻿ДЕМОГРАФИЧЕСКИЕ ИТОГИ 2014 ГОДА. КРАТКИЙ ДОКЛ...  2025-04-01   \n",
       "1  ﻿Э01: 10.19181/рори1айоп.2022.25.2.8\\n\\nГРЕБНЕ...  2025-04-01   \n",
       "2  ﻿DOI: 10.15838/esc.2021.5.77.10 УДК 314.8:314....  2025-04-01   \n",
       "3  СОСТАВЛЯЮЩИЕ ДЕМОГРАФИЧЕСКОГО ПОТЕНЦИАЛА СЕЛЬС...  2025-04-01   \n",
       "4  о прогнозе долгосрочного социально-экономическ...  2025-04-01   \n",
       "\n",
       "                                        ncr_category classification  \n",
       "0                      3_Комфортная_безопасная_среда            [1]  \n",
       "1                                      Не определено            [1]  \n",
       "2                                      Не определено            [1]  \n",
       "3                                      Не определено            [1]  \n",
       "4  1_Сохранение_насел-развитие_здоровье_благополу...            [5]  "
      ]
     },
     "execution_count": 3,
     "metadata": {},
     "output_type": "execute_result"
    }
   ],
   "source": [
    "# Load data from JSON file\n",
    "with open('articles.json', 'r', encoding='utf-8') as f:\n",
    "    data = json.load(f)\n",
    "\n",
    "# 2. Переведём его в список записей\n",
    "#    data — это { \"1\": { \"data\": {...}}, \"2\": { \"data\": {...}}, … }\n",
    "records = [node['data'] for node in data.values()]\n",
    "\n",
    "# 3. «Расплющим» вложенные словари в records\n",
    "df = pd.json_normalize(records)\n",
    "\n",
    "# Посмотрим\n",
    "df.head()"
   ]
  },
  {
   "cell_type": "code",
   "execution_count": 4,
   "id": "3a2f0c93",
   "metadata": {},
   "outputs": [
    {
     "name": "stdout",
     "output_type": "stream",
     "text": [
      "Осталось записей: 4558\n"
     ]
    },
    {
     "data": {
      "text/html": [
       "<div>\n",
       "<style scoped>\n",
       "    .dataframe tbody tr th:only-of-type {\n",
       "        vertical-align: middle;\n",
       "    }\n",
       "\n",
       "    .dataframe tbody tr th {\n",
       "        vertical-align: top;\n",
       "    }\n",
       "\n",
       "    .dataframe thead th {\n",
       "        text-align: right;\n",
       "    }\n",
       "</style>\n",
       "<table border=\"1\" class=\"dataframe\">\n",
       "  <thead>\n",
       "    <tr style=\"text-align: right;\">\n",
       "      <th></th>\n",
       "      <th>text</th>\n",
       "      <th>classification</th>\n",
       "    </tr>\n",
       "  </thead>\n",
       "  <tbody>\n",
       "    <tr>\n",
       "      <th>0</th>\n",
       "      <td>﻿ДЕМОГРАФИЧЕСКИЕ ИТОГИ 2014 ГОДА. КРАТКИЙ ДОКЛ...</td>\n",
       "      <td>[1]</td>\n",
       "    </tr>\n",
       "    <tr>\n",
       "      <th>1</th>\n",
       "      <td>﻿Э01: 10.19181/рори1айоп.2022.25.2.8\\n\\nГРЕБНЕ...</td>\n",
       "      <td>[1]</td>\n",
       "    </tr>\n",
       "    <tr>\n",
       "      <th>2</th>\n",
       "      <td>﻿DOI: 10.15838/esc.2021.5.77.10 УДК 314.8:314....</td>\n",
       "      <td>[1]</td>\n",
       "    </tr>\n",
       "    <tr>\n",
       "      <th>3</th>\n",
       "      <td>СОСТАВЛЯЮЩИЕ ДЕМОГРАФИЧЕСКОГО ПОТЕНЦИАЛА СЕЛЬС...</td>\n",
       "      <td>[1]</td>\n",
       "    </tr>\n",
       "    <tr>\n",
       "      <th>4</th>\n",
       "      <td>о прогнозе долгосрочного социально-экономическ...</td>\n",
       "      <td>[5]</td>\n",
       "    </tr>\n",
       "  </tbody>\n",
       "</table>\n",
       "</div>"
      ],
      "text/plain": [
       "                                                text classification\n",
       "0  ﻿ДЕМОГРАФИЧЕСКИЕ ИТОГИ 2014 ГОДА. КРАТКИЙ ДОКЛ...            [1]\n",
       "1  ﻿Э01: 10.19181/рори1айоп.2022.25.2.8\\n\\nГРЕБНЕ...            [1]\n",
       "2  ﻿DOI: 10.15838/esc.2021.5.77.10 УДК 314.8:314....            [1]\n",
       "3  СОСТАВЛЯЮЩИЕ ДЕМОГРАФИЧЕСКОГО ПОТЕНЦИАЛА СЕЛЬС...            [1]\n",
       "4  о прогнозе долгосрочного социально-экономическ...            [5]"
      ]
     },
     "metadata": {},
     "output_type": "display_data"
    }
   ],
   "source": [
    "# Функция проверяет, что все элементы списка — целые числа\n",
    "def is_numeric_label_list(lbls):\n",
    "    return isinstance(lbls, list) and all(re.fullmatch(r'\\d+', str(x)) for x in lbls)\n",
    "\n",
    "# Отфильтруем DataFrame\n",
    "df = df[df['classification'].apply(is_numeric_label_list)].copy()\n",
    "\n",
    "# Приведём сами метки к спискам int (если нужно дальше считать числами)\n",
    "df['classification'] = df['classification'].apply(lambda lbls: [int(x) for x in lbls])\n",
    "\n",
    "# Проверим\n",
    "print(f\"Осталось записей: {len(df)}\")\n",
    "display(df[['text', 'classification']].head())"
   ]
  },
  {
   "cell_type": "code",
   "execution_count": 5,
   "id": "c31064d7-5c73-4cf4-b614-7948bd8e2aaa",
   "metadata": {
    "execution": {
     "iopub.execute_input": "2025-02-04T13:32:10.967605Z",
     "iopub.status.busy": "2025-02-04T13:32:10.966356Z",
     "iopub.status.idle": "2025-02-04T13:36:42.601627Z",
     "shell.execute_reply": "2025-02-04T13:36:42.600423Z",
     "shell.execute_reply.started": "2025-02-04T13:32:10.967554Z"
    },
    "tags": []
   },
   "outputs": [
    {
     "name": "stderr",
     "output_type": "stream",
     "text": [
      "[nltk_data] Downloading package stopwords to\n",
      "[nltk_data]     C:\\Users\\altwayme\\AppData\\Roaming\\nltk_data...\n",
      "[nltk_data]   Package stopwords is already up-to-date!\n"
     ]
    }
   ],
   "source": [
    "nltk.download('stopwords')\n",
    "russian_stopwords = set(stopwords.words('russian'))\n",
    "\n",
    "def preprocess_text(text: str) -> str:\n",
    "    # 1) Единообразим 'ё' → 'е' сразу в обоих регистрах\n",
    "    text = text.replace('Ё','Е').replace('ё','е')\n",
    "\n",
    "    # 2) Чистим HTML и невидимые символы\n",
    "    text = re.sub(r'<[^>]+>', ' ', text)\n",
    "    text = re.sub(r'[\\r\\n\\t]', ' ', text)\n",
    "\n",
    "    # 3) Оставляем цифры, знаки и **оба регистра** (рус. и англ.)\n",
    "    text = re.sub(\n",
    "        r'[^A-Za-z0-9А-Яа-яЕе\\-\\.,:/%]', \n",
    "        ' ', \n",
    "        text\n",
    "    )\n",
    "\n",
    "    # 4) Нормализуем пробелы\n",
    "    text = re.sub(r'\\s{2,}', ' ', text).strip()\n",
    "\n",
    "    # 5) Токенизируем и удаляем стоп-слова **независимо от регистра**\n",
    "    tokens = text.split()\n",
    "    tokens = [\n",
    "        t for t in tokens \n",
    "        if t.lower() not in russian_stopwords \n",
    "           and len(t) > 2\n",
    "    ]\n",
    "\n",
    "    # 6) Собираем строку\n",
    "    return ' '.join(tokens)\n",
    "\n",
    "df['text_str'] = df['text'].apply(preprocess_text)"
   ]
  },
  {
   "cell_type": "code",
   "execution_count": 6,
   "id": "045ba505-ab31-404e-a34e-bb1f5af8ea31",
   "metadata": {
    "execution": {
     "iopub.execute_input": "2025-02-04T13:36:42.623423Z",
     "iopub.status.busy": "2025-02-04T13:36:42.622533Z",
     "iopub.status.idle": "2025-02-04T13:36:42.649041Z",
     "shell.execute_reply": "2025-02-04T13:36:42.647969Z",
     "shell.execute_reply.started": "2025-02-04T13:36:42.623371Z"
    },
    "tags": []
   },
   "outputs": [
    {
     "data": {
      "text/html": [
       "<div>\n",
       "<style scoped>\n",
       "    .dataframe tbody tr th:only-of-type {\n",
       "        vertical-align: middle;\n",
       "    }\n",
       "\n",
       "    .dataframe tbody tr th {\n",
       "        vertical-align: top;\n",
       "    }\n",
       "\n",
       "    .dataframe thead th {\n",
       "        text-align: right;\n",
       "    }\n",
       "</style>\n",
       "<table border=\"1\" class=\"dataframe\">\n",
       "  <thead>\n",
       "    <tr style=\"text-align: right;\">\n",
       "      <th></th>\n",
       "      <th>text_str</th>\n",
       "      <th>classification</th>\n",
       "    </tr>\n",
       "  </thead>\n",
       "  <tbody>\n",
       "    <tr>\n",
       "      <th>0</th>\n",
       "      <td>ДЕМОГРАФИЧЕСКИЕ ИТОГИ 2014 ГОДА. КРАТКИЙ ДОКЛА...</td>\n",
       "      <td>[1]</td>\n",
       "    </tr>\n",
       "    <tr>\n",
       "      <th>1</th>\n",
       "      <td>Э01: 10.19181/рори1айоп.2022.25.2.8 ГРЕБНЕВАЯ ...</td>\n",
       "      <td>[1]</td>\n",
       "    </tr>\n",
       "    <tr>\n",
       "      <th>2</th>\n",
       "      <td>DOI: 10.15838/esc.2021.5.77.10 УДК 314.8:314.0...</td>\n",
       "      <td>[1]</td>\n",
       "    </tr>\n",
       "    <tr>\n",
       "      <th>3</th>\n",
       "      <td>СОСТАВЛЯЮЩИЕ ДЕМОГРАФИЧЕСКОГО ПОТЕНЦИАЛА СЕЛЬС...</td>\n",
       "      <td>[1]</td>\n",
       "    </tr>\n",
       "    <tr>\n",
       "      <th>4</th>\n",
       "      <td>прогнозе долгосрочного социально-экономическог...</td>\n",
       "      <td>[5]</td>\n",
       "    </tr>\n",
       "    <tr>\n",
       "      <th>...</th>\n",
       "      <td>...</td>\n",
       "      <td>...</td>\n",
       "    </tr>\n",
       "    <tr>\n",
       "      <th>106</th>\n",
       "      <td>Федеральный закон июля 2008 года 123-ФЗ Технич...</td>\n",
       "      <td>[1, 7]</td>\n",
       "    </tr>\n",
       "    <tr>\n",
       "      <th>107</th>\n",
       "      <td>ДЕМОГРАФИЧЕСКИЕ УСЛОВИЯ ПОВЫШЕНИЯ ПЕНСИОННОГО ...</td>\n",
       "      <td>[0]</td>\n",
       "    </tr>\n",
       "    <tr>\n",
       "      <th>108</th>\n",
       "      <td>Irina Yu. Khovavko, Doct. Sc., Associate profe...</td>\n",
       "      <td>[1]</td>\n",
       "    </tr>\n",
       "    <tr>\n",
       "      <th>109</th>\n",
       "      <td>СОЦИАЛЬНО-ДЕМОГРАФИЧЕСКИЕ ПРОБЛЕМЫ РАЗВИТИЯ СЕ...</td>\n",
       "      <td>[1]</td>\n",
       "    </tr>\n",
       "    <tr>\n",
       "      <th>110</th>\n",
       "      <td>Научно-практический рецензируемый журнал Совре...</td>\n",
       "      <td>[1]</td>\n",
       "    </tr>\n",
       "  </tbody>\n",
       "</table>\n",
       "<p>100 rows × 2 columns</p>\n",
       "</div>"
      ],
      "text/plain": [
       "                                              text_str classification\n",
       "0    ДЕМОГРАФИЧЕСКИЕ ИТОГИ 2014 ГОДА. КРАТКИЙ ДОКЛА...            [1]\n",
       "1    Э01: 10.19181/рори1айоп.2022.25.2.8 ГРЕБНЕВАЯ ...            [1]\n",
       "2    DOI: 10.15838/esc.2021.5.77.10 УДК 314.8:314.0...            [1]\n",
       "3    СОСТАВЛЯЮЩИЕ ДЕМОГРАФИЧЕСКОГО ПОТЕНЦИАЛА СЕЛЬС...            [1]\n",
       "4    прогнозе долгосрочного социально-экономическог...            [5]\n",
       "..                                                 ...            ...\n",
       "106  Федеральный закон июля 2008 года 123-ФЗ Технич...         [1, 7]\n",
       "107  ДЕМОГРАФИЧЕСКИЕ УСЛОВИЯ ПОВЫШЕНИЯ ПЕНСИОННОГО ...            [0]\n",
       "108  Irina Yu. Khovavko, Doct. Sc., Associate profe...            [1]\n",
       "109  СОЦИАЛЬНО-ДЕМОГРАФИЧЕСКИЕ ПРОБЛЕМЫ РАЗВИТИЯ СЕ...            [1]\n",
       "110  Научно-практический рецензируемый журнал Совре...            [1]\n",
       "\n",
       "[100 rows x 2 columns]"
      ]
     },
     "execution_count": 6,
     "metadata": {},
     "output_type": "execute_result"
    }
   ],
   "source": [
    "df[['text_str','classification']].head(100)"
   ]
  },
  {
   "cell_type": "code",
   "execution_count": 7,
   "id": "026854c6",
   "metadata": {},
   "outputs": [],
   "source": [
    "# Get all unique labels\n",
    "unique_labels = set(label for sublist in df['classification'] for label in sublist)\n",
    "\n",
    "# Create a mapping from label names to integers\n",
    "label_to_id = {label: idx for idx, label in enumerate(sorted(unique_labels))}\n",
    "id_to_label = {idx: label for label, idx in label_to_id.items()}"
   ]
  },
  {
   "cell_type": "code",
   "execution_count": 8,
   "id": "035c1077-614b-4b07-a3f6-6dfe754d2bd0",
   "metadata": {
    "execution": {
     "iopub.execute_input": "2025-02-04T13:36:42.651170Z",
     "iopub.status.busy": "2025-02-04T13:36:42.650444Z",
     "iopub.status.idle": "2025-02-04T13:36:42.776796Z",
     "shell.execute_reply": "2025-02-04T13:36:42.775711Z",
     "shell.execute_reply.started": "2025-02-04T13:36:42.651120Z"
    },
    "tags": []
   },
   "outputs": [
    {
     "data": {
      "text/plain": [
       "0    [tensor(0.), tensor(1.), tensor(0.), tensor(0....\n",
       "Name: one_hot_labels, dtype: object"
      ]
     },
     "execution_count": 8,
     "metadata": {},
     "output_type": "execute_result"
    }
   ],
   "source": [
    "# Update label preprocessing to handle one-hot encoding\n",
    "def convert_to_one_hot(labels, num_classes):\n",
    "    one_hot = torch.zeros(num_classes)\n",
    "    for label in labels:\n",
    "        one_hot[label] = 1\n",
    "    return one_hot\n",
    "\n",
    "# Apply the one-hot encoding to numeric_labels\n",
    "num_classes = len(unique_labels)  # Total number of unique labels\n",
    "df['one_hot_labels'] = df['classification'].apply(lambda x: convert_to_one_hot(x, num_classes))\n",
    "\n",
    "df['one_hot_labels'].head(1)"
   ]
  },
  {
   "cell_type": "code",
   "execution_count": 9,
   "id": "81bec33f",
   "metadata": {},
   "outputs": [],
   "source": [
    "# MultilabelStratifiedShuffleSplit\n",
    "X = df['text_str'].values\n",
    "Y = np.stack(df['one_hot_labels'].values)\n",
    "\n",
    "msss = MultilabelStratifiedShuffleSplit(n_splits=1, test_size=0.2, random_state=42)\n",
    "train_idx, test_idx = next(msss.split(X, Y))\n",
    "train_texts, test_texts = X[train_idx], X[test_idx]\n",
    "train_labels, test_labels = Y[train_idx], Y[test_idx]"
   ]
  },
  {
   "cell_type": "code",
   "execution_count": null,
   "id": "dadc9c31",
   "metadata": {},
   "outputs": [],
   "source": []
  },
  {
   "cell_type": "code",
   "execution_count": 10,
   "id": "eaedccc1",
   "metadata": {},
   "outputs": [],
   "source": [
    "# Функция пакетной токенизации текстов и создания тензоров меток\n",
    "def tokenize_batch(texts, labels):\n",
    "    # Применяем токенизатор к списку строк\n",
    "    enc = tokenizer(\n",
    "        list(texts),\n",
    "        max_length=16384,       # максимальная длина последовательности\n",
    "        padding='max_length',   # дополняем до этой длины\n",
    "        truncation=True,        # обрезаем более длинные тексты\n",
    "        return_tensors='pt'     # возвращаем PyTorch-тензоры\n",
    "    )\n",
    "    # Добавляем в результат тензор меток (float для BCEWithLogitsLoss)\n",
    "    enc['labels'] = torch.tensor(labels, dtype=torch.float)\n",
    "    return enc"
   ]
  },
  {
   "cell_type": "code",
   "execution_count": 11,
   "id": "6e24f203",
   "metadata": {},
   "outputs": [],
   "source": [
    "# Токенизируем тренировочные и валидационные данные\n",
    "train_enc = tokenize_batch(train_texts, train_labels)\n",
    "test_enc = tokenize_batch(test_texts, test_labels)"
   ]
  },
  {
   "cell_type": "code",
   "execution_count": 12,
   "id": "51c75816",
   "metadata": {},
   "outputs": [],
   "source": [
    "# Кастомный Dataset для работы с уже закодированными данными\n",
    "class CustomDataset(Dataset):\n",
    "    def __init__(self, encodings):\n",
    "        # encodings — словарь с ключами 'input_ids', 'attention_mask', 'labels'\n",
    "        self.enc = encodings\n",
    "\n",
    "    def __len__(self):\n",
    "        # Размер датасета = количество примеров (длина input_ids)\n",
    "        return len(self.enc['input_ids'])\n",
    "\n",
    "    def __getitem__(self, idx):\n",
    "        # Для заданного индекса возвращаем словарь из соответствующих тензоров\n",
    "        return {key: tensor[idx] for key, tensor in self.enc.items()}"
   ]
  },
  {
   "cell_type": "code",
   "execution_count": 13,
   "id": "6958282e",
   "metadata": {},
   "outputs": [],
   "source": [
    "# Создаем объекты Dataset\n",
    "train_ds = CustomDataset(train_enc)\n",
    "test_ds   = CustomDataset(test_enc)"
   ]
  },
  {
   "cell_type": "code",
   "execution_count": 14,
   "id": "dccbbc4e",
   "metadata": {},
   "outputs": [],
   "source": [
    "# Оборачиваем их в DataLoader для батчевой подачи\n",
    "train_loader = DataLoader(train_ds, batch_size=3, shuffle=True)  # перемешиваем данные\n",
    "test_loader   = DataLoader(test_ds,   batch_size=3)               # без перемешивания"
   ]
  },
  {
   "cell_type": "code",
   "execution_count": 15,
   "id": "0701663f",
   "metadata": {},
   "outputs": [
    {
     "name": "stdout",
     "output_type": "stream",
     "text": [
      "CUDA available: True\n",
      "CUDA version:   12.6\n",
      "Device count:   1\n",
      "Current device: 0 NVIDIA GeForce RTX 3090\n"
     ]
    }
   ],
   "source": [
    "print(\"CUDA available:\", torch.cuda.is_available())\n",
    "print(\"CUDA version:  \", torch.version.cuda)\n",
    "print(\"Device count:  \", torch.cuda.device_count())\n",
    "if torch.cuda.is_available():\n",
    "    print(\"Current device:\", torch.cuda.current_device(), torch.cuda.get_device_name(0))\n"
   ]
  },
  {
   "cell_type": "code",
   "execution_count": 16,
   "id": "016ac2ec-6ce4-451b-8360-617020d71813",
   "metadata": {
    "execution": {
     "iopub.execute_input": "2025-02-04T13:38:51.477911Z",
     "iopub.status.busy": "2025-02-04T13:38:51.475853Z",
     "iopub.status.idle": "2025-02-04T17:13:32.378883Z"
    },
    "tags": []
   },
   "outputs": [
    {
     "name": "stdout",
     "output_type": "stream",
     "text": [
      "\n",
      "=== Эпоха 1/50 — ТРЕНИРОВКА ===\n"
     ]
    },
    {
     "name": "stderr",
     "output_type": "stream",
     "text": [
      " TRAIN:   0%|          | 0/1210 [00:00<?, ?it/s]Initializing global attention on CLS token...\n",
      "                                                           \r"
     ]
    },
    {
     "name": "stdout",
     "output_type": "stream",
     "text": [
      "ТРЕНИРОВКА → Средний loss: 0.2909\n",
      "=== Эпоха 1/50 — ВАЛИДАЦИЯ ===\n"
     ]
    },
    {
     "name": "stderr",
     "output_type": "stream",
     "text": [
      "                                                          \r"
     ]
    },
    {
     "name": "stdout",
     "output_type": "stream",
     "text": [
      "ВАЛИДАЦИЯ → Средний loss: 0.2083\n",
      "✔ Улучшение! Модель сохранена.\n",
      "\n",
      "=== Эпоха 2/50 — ТРЕНИРОВКА ===\n"
     ]
    },
    {
     "name": "stderr",
     "output_type": "stream",
     "text": [
      "                                                           \r"
     ]
    },
    {
     "name": "stdout",
     "output_type": "stream",
     "text": [
      "ТРЕНИРОВКА → Средний loss: 0.1823\n",
      "=== Эпоха 2/50 — ВАЛИДАЦИЯ ===\n"
     ]
    },
    {
     "name": "stderr",
     "output_type": "stream",
     "text": [
      "                                                          \r"
     ]
    },
    {
     "name": "stdout",
     "output_type": "stream",
     "text": [
      "ВАЛИДАЦИЯ → Средний loss: 0.1788\n",
      "✔ Улучшение! Модель сохранена.\n",
      "\n",
      "=== Эпоха 3/50 — ТРЕНИРОВКА ===\n"
     ]
    },
    {
     "name": "stderr",
     "output_type": "stream",
     "text": [
      "                                                           \r"
     ]
    },
    {
     "name": "stdout",
     "output_type": "stream",
     "text": [
      "ТРЕНИРОВКА → Средний loss: 0.1252\n",
      "=== Эпоха 3/50 — ВАЛИДАЦИЯ ===\n"
     ]
    },
    {
     "name": "stderr",
     "output_type": "stream",
     "text": [
      "                                                          \r"
     ]
    },
    {
     "name": "stdout",
     "output_type": "stream",
     "text": [
      "ВАЛИДАЦИЯ → Средний loss: 0.1870\n",
      "✖ Без улучшения: 1/3\n",
      "\n",
      "=== Эпоха 4/50 — ТРЕНИРОВКА ===\n"
     ]
    },
    {
     "name": "stderr",
     "output_type": "stream",
     "text": [
      "                                                           \r"
     ]
    },
    {
     "name": "stdout",
     "output_type": "stream",
     "text": [
      "ТРЕНИРОВКА → Средний loss: 0.0769\n",
      "=== Эпоха 4/50 — ВАЛИДАЦИЯ ===\n"
     ]
    },
    {
     "name": "stderr",
     "output_type": "stream",
     "text": [
      "                                                          \r"
     ]
    },
    {
     "name": "stdout",
     "output_type": "stream",
     "text": [
      "ВАЛИДАЦИЯ → Средний loss: 0.2093\n",
      "✖ Без улучшения: 2/3\n",
      "\n",
      "=== Эпоха 5/50 — ТРЕНИРОВКА ===\n"
     ]
    },
    {
     "name": "stderr",
     "output_type": "stream",
     "text": [
      "                                                           \r"
     ]
    },
    {
     "name": "stdout",
     "output_type": "stream",
     "text": [
      "ТРЕНИРОВКА → Средний loss: 0.0482\n",
      "=== Эпоха 5/50 — ВАЛИДАЦИЯ ===\n"
     ]
    },
    {
     "name": "stderr",
     "output_type": "stream",
     "text": [
      "                                                          "
     ]
    },
    {
     "name": "stdout",
     "output_type": "stream",
     "text": [
      "ВАЛИДАЦИЯ → Средний loss: 0.2320\n",
      "✖ Без улучшения: 3/3\n",
      "⏹ Ранняя остановка — прекращаем обучение.\n"
     ]
    },
    {
     "name": "stderr",
     "output_type": "stream",
     "text": [
      "\r"
     ]
    }
   ],
   "source": [
    "# Подготовка устройства и модели\n",
    "device = torch.device('cuda' if torch.cuda.is_available() else 'cpu')\n",
    "model.to(device)\n",
    "\n",
    "# Определяем оптимизатор и функцию потерь\n",
    "optimizer = AdamW(model.parameters(), lr=5e-5)\n",
    "loss_fn = nn.BCEWithLogitsLoss()  # для multi-label\n",
    "\n",
    "# Параметры ранней остановки\n",
    "best_test_loss = float('inf')\n",
    "patience = 3\n",
    "no_improve = 0\n",
    "\n",
    "# Количество эпох\n",
    "epochs = 50\n",
    "\n",
    "for epoch in range(1, epochs + 1):\n",
    "    # — ТРЕНИРОВКА —\n",
    "    model.train()\n",
    "    train_loss = 0.0\n",
    "    print(f\"\\n=== Эпоха {epoch}/{epochs} — ТРЕНИРОВКА ===\")\n",
    "    for batch in tqdm(train_loader, desc=\" TRAIN\", leave=False):\n",
    "        inputs = {\n",
    "            'input_ids':      batch['input_ids'].to(device),\n",
    "            'attention_mask': batch['attention_mask'].to(device)\n",
    "        }\n",
    "        labels = batch['labels'].to(device)\n",
    "\n",
    "        optimizer.zero_grad()\n",
    "        logits = model(**inputs).logits\n",
    "        loss = loss_fn(logits, labels)\n",
    "        loss.backward()\n",
    "        optimizer.step()\n",
    "\n",
    "        train_loss += loss.item()\n",
    "    train_loss /= len(train_loader)\n",
    "    print(f\"ТРЕНИРОВКА → Средний loss: {train_loss:.4f}\")\n",
    "\n",
    "    # — ВАЛИДАЦИЯ —\n",
    "    model.eval()\n",
    "    test_loss = 0.0\n",
    "    print(f\"=== Эпоха {epoch}/{epochs} — ВАЛИДАЦИЯ ===\")\n",
    "    with torch.no_grad():\n",
    "        for batch in tqdm(test_loader, desc=\"   TEST\", leave=False):\n",
    "            inputs = {\n",
    "                'input_ids':      batch['input_ids'].to(device),\n",
    "                'attention_mask': batch['attention_mask'].to(device)\n",
    "            }\n",
    "            labels = batch['labels'].to(device)\n",
    "\n",
    "            logits = model(**inputs).logits\n",
    "            test_loss += loss_fn(logits, labels).item()\n",
    "    test_loss /= len(test_loader)\n",
    "    print(f\"ВАЛИДАЦИЯ → Средний loss: {test_loss:.4f}\")\n",
    "\n",
    "    # — РАННЯЯ ОСТАНОВКА —\n",
    "    if test_loss < best_test_loss:\n",
    "        best_test_loss = test_loss\n",
    "        no_improve = 0\n",
    "        model.save_pretrained('best_model/')\n",
    "        tokenizer.save_pretrained('best_model/')\n",
    "        print(\"✔ Улучшение! Модель сохранена.\")\n",
    "    else:\n",
    "        no_improve += 1\n",
    "        print(f\"✖ Без улучшения: {no_improve}/{patience}\")\n",
    "        if no_improve >= patience:\n",
    "            print(\"⏹ Ранняя остановка — прекращаем обучение.\")\n",
    "            break\n"
   ]
  },
  {
   "cell_type": "code",
   "execution_count": 20,
   "id": "1a0b5c42",
   "metadata": {},
   "outputs": [
    {
     "name": "stdout",
     "output_type": "stream",
     "text": [
      "              precision    recall  f1-score   support\n",
      "\n",
      "           0       0.71      0.22      0.33       102\n",
      "           1       0.84      0.91      0.87       327\n",
      "           2       0.87      0.85      0.86       177\n",
      "           3       0.89      0.81      0.85       162\n",
      "           4       0.97      0.64      0.77        45\n",
      "           5       0.74      0.68      0.71       133\n",
      "           6       1.00      0.07      0.13        29\n",
      "           7       0.66      0.57      0.61       154\n",
      "\n",
      "   micro avg       0.81      0.72      0.76      1129\n",
      "   macro avg       0.83      0.60      0.64      1129\n",
      "weighted avg       0.81      0.72      0.74      1129\n",
      " samples avg       0.80      0.77      0.78      1129\n",
      "\n"
     ]
    }
   ],
   "source": [
    "# Загрузка\n",
    "model = LongformerForSequenceClassification.from_pretrained('best_model/').to(device)\n",
    "tokenizer = LongformerTokenizerFast.from_pretrained('best_model/')\n",
    "\n",
    "# Оценка\n",
    "from sklearn.metrics import classification_report\n",
    "\n",
    "model.eval()\n",
    "all_preds, all_labels = [], []\n",
    "with torch.no_grad():\n",
    "    for batch in test_loader:\n",
    "        inputs = {\n",
    "            'input_ids':      batch['input_ids'].to(device),\n",
    "            'attention_mask': batch['attention_mask'].to(device)\n",
    "        }\n",
    "        labels = batch['labels'].to(device)\n",
    "        logits = model(**inputs).logits\n",
    "        preds = (torch.sigmoid(logits) > 0.5).float()\n",
    "\n",
    "        all_preds.append(preds.cpu())\n",
    "        all_labels.append(labels.cpu())\n",
    "\n",
    "all_preds = torch.cat(all_preds).numpy()\n",
    "all_labels = torch.cat(all_labels).numpy()\n",
    "\n",
    "print(classification_report(\n",
    "    all_labels,\n",
    "    all_preds,\n",
    "    target_names=[str(k) for k in label_to_id.keys()],\n",
    "    zero_division=0\n",
    "))\n"
   ]
  },
  {
   "cell_type": "code",
   "execution_count": null,
   "id": "345c8e41",
   "metadata": {},
   "outputs": [],
   "source": [
    "# ---------- 1. загрузка \"чистого\" корпуса (4558 статей), как раньше ----------\n",
    "with open(r\"articles.json\",\n",
    "          encoding=\"utf-8\") as f:\n",
    "    raw_main = json.load(f)\n",
    "\n",
    "main_df = pd.json_normalize(node[\"data\"] for node in raw_main.values())\n",
    "\n"
   ]
  },
  {
   "cell_type": "code",
   "execution_count": null,
   "id": "277d7fd6",
   "metadata": {},
   "outputs": [],
   "source": [
    "# ---------- 2. загрузка ручной выборки --------------------------------------\n",
    "with open(r\"400.json\",\n",
    "          encoding=\"utf-8\") as f:\n",
    "    raw_val = json.load(f)\n",
    "\n",
    "val_df = pd.json_normalize(node[\"data\"] for node in raw_val.values())\n",
    "\n"
   ]
  },
  {
   "cell_type": "code",
   "execution_count": 4,
   "id": "4991acad",
   "metadata": {},
   "outputs": [],
   "source": [
    "# ---------- 4. единообразный pre‑processing текста --------------------------\n",
    "ru_stop = set(stopwords.words(\"russian\"))\n",
    "def prep(text: str) -> str:\n",
    "    text = (text or \"\").replace(\"Ё\", \"Е\").replace(\"ё\", \"е\")\n",
    "    text = re.sub(r\"<[^>]+>\", \" \", text)         # HTML\n",
    "    text = re.sub(r\"[\\r\\n\\t]\", \" \", text)\n",
    "    text = re.sub(r\"[^A-Za-z0-9А-Яа-яЕе\\-,.:/%]\", \" \", text)\n",
    "    text = re.sub(r\"\\s{2,}\", \" \", text).strip()\n",
    "    tokens = [t for t in text.split() if t.lower() not in ru_stop and len(t) > 2]\n",
    "    return \" \".join(tokens)\n",
    "\n",
    "val_df[\"text_str\"]  = val_df[\"text\"].apply(prep)\n",
    "\n"
   ]
  },
  {
   "cell_type": "code",
   "execution_count": 5,
   "id": "593ecdf9",
   "metadata": {},
   "outputs": [],
   "source": [
    "# ---------- 5. кодируем метки exactly как в основном корпусе ----------------\n",
    "def to_int_list(lbls):\n",
    "    \"\"\"Возвращает список int‑меток или пустой список.\"\"\"\n",
    "    if isinstance(lbls, list):\n",
    "        return [int(x) for x in lbls if str(x).isdigit()]\n",
    "    return []\n",
    "\n",
    "# единообразно чистим и приводим к int\n",
    "main_df[\"classification\"] = main_df[\"classification\"].apply(to_int_list)\n",
    "main_df = main_df[main_df[\"classification\"].map(len) > 0]\n",
    "\n",
    "# теперь все элементы — int, ошибка сортировки исчезает\n",
    "all_labels = sorted({l for sub in main_df[\"classification\"] for l in sub})\n",
    "label2id   = {lbl: i for i, lbl in enumerate(all_labels)}\n",
    "num_labels = len(all_labels)\n",
    "\n",
    "\n",
    "def to_multihot(label_list):\n",
    "    vec = np.zeros(num_labels, dtype=np.float32)\n",
    "    for lbl in label_list:\n",
    "        if lbl in label2id: vec[label2id[lbl]] = 1.\n",
    "    return vec\n",
    "\n",
    "val_df[\"y_true\"] = val_df[\"manual_labels\"].apply(to_multihot)\n"
   ]
  },
  {
   "cell_type": "code",
   "execution_count": 6,
   "id": "edfe32b4",
   "metadata": {},
   "outputs": [],
   "source": [
    "# ---------- 6. загружаем best‑модель ----------------------------------------\n",
    "device   = torch.device(\"cuda\" if torch.cuda.is_available() else \"cpu\")\n",
    "model    = LongformerForSequenceClassification.from_pretrained(\"best_model\").to(device)\n",
    "tokenizer= LongformerTokenizerFast.from_pretrained(\"best_model\")\n"
   ]
  },
  {
   "cell_type": "code",
   "execution_count": 7,
   "id": "fbaec129",
   "metadata": {},
   "outputs": [],
   "source": [
    "# ---------- 7. токенизация validation‑набора --------------------------------\n",
    "enc = tokenizer(\n",
    "    val_df[\"text_str\"].tolist(),\n",
    "    max_length=16_384,\n",
    "    padding=\"max_length\",\n",
    "    truncation=True,\n",
    "    return_tensors=\"pt\"\n",
    ")\n",
    "dataset = torch.utils.data.TensorDataset(\n",
    "    enc[\"input_ids\"], enc[\"attention_mask\"],\n",
    "    torch.tensor(np.vstack(val_df[\"y_true\"].values))\n",
    ")\n",
    "loader  = torch.utils.data.DataLoader(dataset, batch_size=3)\n",
    "\n"
   ]
  },
  {
   "cell_type": "code",
   "execution_count": 8,
   "id": "5de1402c",
   "metadata": {},
   "outputs": [
    {
     "name": "stderr",
     "output_type": "stream",
     "text": [
      "Initializing global attention on CLS token...\n"
     ]
    }
   ],
   "source": [
    "# ---------- 8. инференс ------------------------------------------------------\n",
    "model.eval()\n",
    "all_logits, all_true = [], []\n",
    "with torch.no_grad():\n",
    "    for ids, mask, y in loader:\n",
    "        ids, mask = ids.to(device), mask.to(device)\n",
    "        logits = model(ids, attention_mask=mask).logits\n",
    "        all_logits.append(logits.cpu())\n",
    "        all_true.append(y)\n",
    "\n",
    "y_true = torch.vstack(all_true).numpy()\n",
    "y_prob = torch.sigmoid(torch.vstack(all_logits)).numpy()\n",
    "y_pred = (y_prob > 0.5).astype(int)\n",
    "\n"
   ]
  },
  {
   "cell_type": "code",
   "execution_count": 9,
   "metadata": {},
   "outputs": [
    {
     "name": "stdout",
     "output_type": "stream",
     "text": [
      "              precision    recall  f1-score   support\n",
      "\n",
      "           0       0.88      0.28      0.42        50\n",
      "           1       0.69      0.78      0.73        80\n",
      "           2       0.83      0.75      0.79        64\n",
      "           3       0.78      0.63      0.69        83\n",
      "           4       0.93      0.67      0.78        55\n",
      "           5       0.78      0.70      0.74       108\n",
      "           6       1.00      0.19      0.33        72\n",
      "           7       0.67      0.63      0.65       131\n",
      "\n",
      "   micro avg       0.76      0.60      0.67       643\n",
      "   macro avg       0.82      0.58      0.64       643\n",
      "weighted avg       0.80      0.60      0.65       643\n",
      " samples avg       0.77      0.67      0.69       643\n",
      "\n",
      "ROC‑AUC (micro): 0.9065219678727806\n",
      "ROC‑AUC (macro): 0.9005317867692769\n"
     ]
    }
   ],
   "source": [
    "# ---------- 9. отчёт ---------------------------------------------------------\n",
    "print(classification_report(\n",
    "    y_true, y_pred,\n",
    "    target_names=[str(lbl) for lbl in all_labels],\n",
    "    zero_division=0\n",
    "))\n",
    "print(\"ROC‑AUC (micro):\", roc_auc_score(y_true, y_prob, average=\"micro\"))\n",
    "print(\"ROC‑AUC (macro):\", roc_auc_score(y_true, y_prob, average=\"macro\"))"
   ]
  }
 ],
 "metadata": {
  "kernelspec": {
   "display_name": "Python 3",
   "language": "python",
   "name": "python3"
  },
  "language_info": {
   "codemirror_mode": {
    "name": "ipython",
    "version": 3
   },
   "file_extension": ".py",
   "mimetype": "text/x-python",
   "name": "python",
   "nbconvert_exporter": "python",
   "pygments_lexer": "ipython3",
   "version": "3.13.2"
  }
 },
 "nbformat": 4,
 "nbformat_minor": 5
}
